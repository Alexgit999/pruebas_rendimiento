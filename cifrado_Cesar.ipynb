{
 "cells": [
  {
   "cell_type": "markdown",
   "id": "545b88ed-68d1-431c-b0ad-1a262d7ca364",
   "metadata": {},
   "source": [
    "# Ejercicio: Cifrado César Mejorado\n",
    "El Cifrado César es una técnica de encriptación en la que cada letra de un texto es sustituida por otra que se encuentra un número fijo de posiciones más adelante en el alfabeto.\n",
    "Tu tarea será crear un programa que:\n",
    "1. Solicite al usuario una frase y una clave (número entero) para cifrar.\n",
    "2. Cifre la frase utilizando el Cifrado César.\n",
    "3. Ofrezca la opción de descifrar la frase utilizando la misma clave.\n",
    "4. Ignore los caracteres especiales, pero mantenga los espacios y mayúsculas.\n",
    "## Instrucciones detalladas:\n",
    "1. Solicitar al usuario una frase.\n",
    "2. Solicitar al usuario una clave numérica (entera y positiva) que indique el número de posiciones a desplazar.\n",
    "3. Crear una función `cifrar(texto, clave)` que cifre la frase.\n",
    "4. Crear una función `descifrar(texto, clave)` que descifre la frase.\n",
    "5. Mostrar el texto cifrado y ofrecer la opción de descifrarlo."
   ]
  },
  {
   "cell_type": "code",
   "execution_count": 7,
   "id": "03ef4504-a17c-426e-9bd6-9fe6aad4d83e",
   "metadata": {},
   "outputs": [
    {
     "name": "stdin",
     "output_type": "stream",
     "text": [
      "Introduce la frase que quieres cifrar:  hola\n",
      "Introduce la clave de cifrado (entero positivo):  8\n"
     ]
    },
    {
     "name": "stdout",
     "output_type": "stream",
     "text": [
      "\n",
      "Texto cifrado: pwti\n"
     ]
    },
    {
     "name": "stdin",
     "output_type": "stream",
     "text": [
      "\n",
      "¿Deseas descifrar el texto? (s/n):  s\n"
     ]
    },
    {
     "name": "stdout",
     "output_type": "stream",
     "text": [
      "\n",
      "Texto descifrado: hola\n"
     ]
    }
   ],
   "source": [
    "def cifrar(texto, clave):\n",
    "    resultado = \"\"\n",
    "    for char in texto:\n",
    "        if char.isalpha():  # Solo cifrar letras\n",
    "            desplazamiento = clave % 26\n",
    "            if char.isupper():\n",
    "                nuevo_char = chr((ord(char) - ord('A') + desplazamiento) % 26 + ord('A'))\n",
    "            else:\n",
    "                nuevo_char = chr((ord(char) - ord('a') + desplazamiento) % 26 + ord('a'))\n",
    "            resultado += nuevo_char\n",
    "        else:\n",
    "            resultado += char\n",
    "    return resultado\n",
    " \n",
    " \n",
    "def descifrar(texto, clave):\n",
    "    # Utiliza la misma lógica pero invirtiendo el desplazamiento\n",
    "    return cifrar(texto, -clave)\n",
    " \n",
    " \n",
    "# Solicitar frase y clave al usuario\n",
    "frase = input(\"Introduce la frase que quieres cifrar: \")\n",
    "clave = int(input(\"Introduce la clave de cifrado (entero positivo): \"))\n",
    " \n",
    "# Cifrar y mostrar el resultado\n",
    "texto_cifrado = cifrar(frase, clave)\n",
    "print(f\"\\nTexto cifrado: {texto_cifrado}\")\n",
    "\n",
    " \n",
    "# Preguntar si desea descifrar\n",
    "opcion = input(\"\\n¿Deseas descifrar el texto? (s/n): \").lower()\n",
    "if opcion == 's':\n",
    "    texto_descifrado = descifrar(texto_cifrado, clave)\n",
    "    print(f\"\\nTexto descifrado: {texto_descifrado}\")\n",
    "else:\n",
    "    print(\"¡Hasta luego!\")"
   ]
  },
  {
   "cell_type": "code",
   "execution_count": 10,
   "id": "dd4001c0-09ce-42ba-b712-cf7320580b7e",
   "metadata": {},
   "outputs": [
    {
     "name": "stdin",
     "output_type": "stream",
     "text": [
      "Introduce la frase que quieres cifrar:  hola\n",
      "Introduce la clave de cifrado (entero positivo):  8\n"
     ]
    },
    {
     "name": "stdout",
     "output_type": "stream",
     "text": [
      "\n",
      "Texto cifrado: pwti\n"
     ]
    },
    {
     "name": "stdin",
     "output_type": "stream",
     "text": [
      "\n",
      "¿Deseas descifrar el texto? (s/n):  s\n"
     ]
    },
    {
     "name": "stdout",
     "output_type": "stream",
     "text": [
      "\n",
      "Texto descifrado: helq\n"
     ]
    }
   ],
   "source": [
    "def cifrar(texto, clave, opcion):\n",
    "    resultado = \"\"\n",
    "    for char in texto:\n",
    "        if char.isalpha():  # Solo cifrar letras\n",
    "            if opcion == 's':\n",
    "                clave = -clave\n",
    "            desplazamiento = clave % 26\n",
    "            if char.isupper():\n",
    "                nuevo_char = chr((ord(char) - ord('A') + desplazamiento) % 26 + ord('A'))\n",
    "            else:\n",
    "                nuevo_char = chr((ord(char) - ord('a') + desplazamiento) % 26 + ord('a'))\n",
    "            resultado += nuevo_char\n",
    "        else:\n",
    "            resultado += char\n",
    "    return resultado\n",
    " \n",
    "def descifrar(texto, clave, opcion):\n",
    "    # Utiliza la misma lógica pero invirtiendo el desplazamiento\n",
    "    return cifrar(texto, clave, opcion)\n",
    " \n",
    "# Solicitar frase y clave al usuario\n",
    "frase = input(\"Introduce la frase que quieres cifrar: \")\n",
    "clave = int(input(\"Introduce la clave de cifrado (entero positivo): \"))\n",
    " \n",
    "# Cifrar y mostrar el resultado\n",
    "texto_cifrado = cifrar(frase, clave, opcion='n')\n",
    "print(f\"\\nTexto cifrado: {texto_cifrado}\")\n",
    " \n",
    "# Preguntar si desea descifrar\n",
    "opcion = input(\"\\n¿Deseas descifrar el texto? (s/n): \").lower()\n",
    "if opcion == 's':\n",
    "    texto_descifrado = descifrar(texto_cifrado, clave, opcion)\n",
    "    print(f\"\\nTexto descifrado: {texto_descifrado}\")\n",
    "else:\n",
    "    print(\"¡Hasta luego!\")"
   ]
  },
  {
   "cell_type": "markdown",
   "id": "b0d319b5-8ff2-4649-8571-13cd46f636ce",
   "metadata": {},
   "source": [
    "# Explicación del ejercicio:\n",
    "1. Función `cifrar(texto, clave)`:\n",
    "    - Recorre cada carácter de la frase.\n",
    "    - Desplaza solo las letras en el alfabeto, ignorando caracteres especiales.\n",
    "    - Mantiene las mayúsculas y minúsculas.\n",
    "2. Función `descifrar(texto, clave)`:\n",
    "    - Utiliza la misma función de cifrado pero invierte el desplazamiento usando -clave.\n",
    "# Extensión (Opcional)\n",
    "Si quieres hacerlo más elaborado, puedes:\n",
    "1. Validar la entrada del usuario para asegurarte de que la clave sea un entero positivo.\n",
    "2. Permitir claves negativas para desplazar hacia atrás.\n",
    "3. Dar soporte a otros alfabetos (por ejemplo, incluir la letra ñ para el español."
   ]
  }
 ],
 "metadata": {
  "kernelspec": {
   "display_name": "Python 3 (ipykernel)",
   "language": "python",
   "name": "python3"
  },
  "language_info": {
   "codemirror_mode": {
    "name": "ipython",
    "version": 3
   },
   "file_extension": ".py",
   "mimetype": "text/x-python",
   "name": "python",
   "nbconvert_exporter": "python",
   "pygments_lexer": "ipython3",
   "version": "3.12.7"
  }
 },
 "nbformat": 4,
 "nbformat_minor": 5
}
